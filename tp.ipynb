{
 "cells": [
  {
   "cell_type": "markdown",
   "metadata": {},
   "source": [
    "# Primer Parcial en Jupyter Notebook - Python para Ciencia de Datos"
   ]
  },
  {
   "cell_type": "markdown",
   "metadata": {},
   "source": [
    "### Como correr el proyecto:\n",
    "\n",
    "```bash\n",
    "# para instalar un entorno virtual\n",
    "py -n venv env\n",
    "```\n",
    "\n",
    "```bash\n",
    "# para instalar las dependencias del proyecto\n",
    "pip install -r requirements.txt\n",
    "```\n",
    "\n",
    "```bash"
   ]
  },
  {
   "cell_type": "markdown",
   "metadata": {},
   "source": [
    "## Algoritmia - 2"
   ]
  },
  {
   "cell_type": "markdown",
   "metadata": {},
   "source": [
    "- Función que recibe una lista y retorna la misma lista sin valores duplicados (si los hubiere), manteniendo el orden original."
   ]
  },
  {
   "cell_type": "code",
   "execution_count": 24,
   "metadata": {},
   "outputs": [
    {
     "name": "stdout",
     "output_type": "stream",
     "text": [
      "[1, 2, 3, 4, 5, 6, 7]\n"
     ]
    }
   ],
   "source": [
    "LISTA = [1,1,2,2,2,2,2,2,2,2,3,4,4,5,6,6,7];\n",
    "\n",
    "def eliminar_duplicados(lista: list) -> list:\n",
    "    \"\"\"\n",
    "    Función que recibe una lista y retorna la misma lista sin valores\n",
    "    duplicados (si los hubiere), manteniendo el orden original.\n",
    "    \"\"\"\n",
    "    return list(set(lista))\n",
    "\n",
    "print(eliminar_duplicados(LISTA))"
   ]
  },
  {
   "cell_type": "markdown",
   "metadata": {},
   "source": [
    "## Librería pandas - 3"
   ]
  },
  {
   "cell_type": "markdown",
   "metadata": {},
   "source": [
    "- **Listado de Calificaciones**"
   ]
  },
  {
   "cell_type": "code",
   "execution_count": 25,
   "metadata": {},
   "outputs": [],
   "source": [
    "calificaciones = [\n",
    "    {\"nombre\": \"Juan\", \"matematicas\": 85, \"ciencias\": 90, \"historia\": 75},\n",
    "    {\"nombre\": \"María\", \"matematicas\": 70, \"ciencias\": 80, \"historia\": 85},\n",
    "    {\"nombre\": \"Pedro\", \"matematicas\": 95, \"ciencias\": 75, \"historia\": 90},\n",
    "    {\"nombre\": \"Ana\", \"matematicas\": 80, \"ciencias\": 85, \"historia\": 80},\n",
    "    {\"nombre\": \"Luis\", \"matematicas\": 75, \"ciencias\": 70, \"historia\": 95},\n",
    "    {\"nombre\": \"Sofía\", \"matematicas\": 90, \"ciencias\": 85, \"historia\": 75},\n",
    "    {\"nombre\": \"Carlos\", \"matematicas\": 85, \"ciencias\": 90, \"historia\": 80},\n",
    "    {\"nombre\": \"Elena\", \"matematicas\": 70, \"ciencias\": 75, \"historia\": 85},\n",
    "    {\"nombre\": \"Javier\", \"matematicas\": 80, \"ciencias\": 85, \"historia\": 90},\n",
    "    {\"nombre\": \"Laura\", \"matematicas\": 75, \"ciencias\": 70, \"historia\": 95},\n",
    "    {\"nombre\": \"Diego\", \"matematicas\": 90, \"ciencias\": 85, \"historia\": 75},\n",
    "    {\"nombre\": \"Paula\", \"matematicas\": 85, \"ciencias\": 90, \"historia\": 80},\n",
    "    {\"nombre\": \"Carmen\", \"matematicas\": 70, \"ciencias\": 75, \"historia\": 85},\n",
    "]"
   ]
  },
  {
   "cell_type": "markdown",
   "metadata": {},
   "source": [
    "- Importo la librería pandas para su utilización"
   ]
  },
  {
   "cell_type": "code",
   "execution_count": 26,
   "metadata": {},
   "outputs": [],
   "source": [
    "import pandas as pd"
   ]
  },
  {
   "cell_type": "markdown",
   "metadata": {},
   "source": [
    " - Función que recibe un listado de alumnos con sus calificaciones y retorna el promedio de calificaciones de esas asignaturas."
   ]
  },
  {
   "cell_type": "code",
   "execution_count": 27,
   "metadata": {},
   "outputs": [],
   "source": [
    "def promedio_calificaciones_asignaturas(calificaciones):\n",
    "    \"\"\"\n",
    "    Función que recibe un listado de alumnos con sus calificaciones y retorna\n",
    "    el promedio de calificaciones de esas asignaturas.\n",
    "    \"\"\"\n",
    "    # Creo un DataFrame con las columnas\n",
    "    df = pd.DataFrame(calificaciones, columns=[\"matematicas\", \"ciencias\", \"historia\"])\n",
    "\n",
    "    # creo un diccionario donde almaceno las materias, y sus respectivos promedios.\n",
    "    promedios = [\n",
    "        {\n",
    "            \"matematicas\": df[\"matematicas\"].mean(),\n",
    "            \"ciencias\": df[\"ciencias\"].mean(),\n",
    "            \"historia\": df[\"historia\"].mean(),\n",
    "        }\n",
    "    ]\n",
    "    return pd.DataFrame(promedios)"
   ]
  },
  {
   "cell_type": "markdown",
   "metadata": {},
   "source": [
    "- Función que recibe una lista de estudiantes con las calificaciones por asignatura y retorna un DataFrame con más altas calificaciones agrupados por materias estudiantes y sus notas."
   ]
  },
  {
   "cell_type": "code",
   "execution_count": 28,
   "metadata": {},
   "outputs": [],
   "source": [
    "def estudiantes_calificaciones_mas_altas_por_asignatura(calificaciones):\n",
    "    \"\"\"\n",
    "    Función que recibe una lista de estudiantes con las calificaciones por asignatura\n",
    "    y retorna un DataFrame con más altas calificaciones agrupados por materias\n",
    "    estudiantes y sus notas.\n",
    "    \"\"\"\n",
    "\n",
    "    # creo DataFrames para cada materia\n",
    "    matematicas = pd.DataFrame(calificaciones, columns=[\"nombre\", \"matematicas\"])\n",
    "    ciencias = pd.DataFrame(calificaciones, columns=[\"nombre\", \"ciencias\"])\n",
    "    historia = pd.DataFrame(calificaciones, columns=[\"nombre\", \"historia\"])\n",
    "\n",
    "    # Filtro cada DataFrame con el método max() de pandas, para obtener un DataFrame\n",
    "    # con los valores máximos,es decir los alumnos con las mejores notas.\n",
    "    max_matematicas = matematicas[\n",
    "        matematicas[\"matematicas\"] == matematicas[\"matematicas\"].max()\n",
    "    ]\n",
    "    max_ciencias = ciencias[ciencias[\"ciencias\"] == ciencias[\"ciencias\"].max()]\n",
    "    max_historia = historia[historia[\"historia\"] == historia[\"historia\"].max()]\n",
    "\n",
    "    # creo una lista de diccionarios donde manipulo la información de los DataFrames\n",
    "    # creando de esta manera el solicitado por la consigna.\n",
    "    mejores_alumnos_por_asignatura = [\n",
    "        {\n",
    "            \"materia\": \"Matemáticas\",\n",
    "            \"alumnos\": list(max_matematicas[\"nombre\"]),\n",
    "            \"nota\": list(max_matematicas[\"matematicas\"])[0],\n",
    "        },\n",
    "        {\n",
    "            \"materia\": \"Ciencias\",\n",
    "            \"alumnos\": list(max_ciencias[\"nombre\"]),\n",
    "            \"nota\": list(max_ciencias[\"ciencias\"])[0],\n",
    "        },\n",
    "        {\n",
    "            \"materia\": \"Historia\",\n",
    "            \"alumnos\": list(max_historia[\"nombre\"]),\n",
    "            \"nota\": list(max_historia[\"historia\"])[0],\n",
    "        },\n",
    "    ]\n",
    "\n",
    "    # retorno como DataFrame la lista creada anteriormente\n",
    "    return pd.DataFrame(mejores_alumnos_por_asignatura)"
   ]
  },
  {
   "cell_type": "markdown",
   "metadata": {},
   "source": [
    "- Función que recibe una lista de estudiantes con las calificaciones por asignatura y retorna un DataFrame con la materia y el porcentaje de estudiantes aprobados."
   ]
  },
  {
   "cell_type": "code",
   "execution_count": 29,
   "metadata": {},
   "outputs": [],
   "source": [
    "def porcentaje_estudiantes_aprobados(calificaciones):\n",
    "    \"\"\"\n",
    "    Función que recibe una lista de estudiantes con las calificaciones por asignatura\n",
    "    y retorna un DataFrame con la materia y el porcentaje de estudiantes aprobados.\n",
    "    \"\"\"\n",
    "    df = pd.DataFrame(calificaciones)\n",
    "\n",
    "    total_estudiantes = df[\"nombre\"].count()\n",
    "\n",
    "    estudiantes_aprobados_matematicas = df[df[\"matematicas\"] >= 60][\n",
    "        \"matematicas\"\n",
    "    ].count()\n",
    "    estudiantes_aprobados_ciencia = df[df[\"ciencias\"] >= 60][\"ciencias\"].count()\n",
    "    estudiantes_aprobados_historia = df[df[\"historia\"] >= 60][\"historia\"].count()\n",
    "\n",
    "    porcentaje_aprobados_por_asignatura = [\n",
    "        {\n",
    "            \"materia\": \"Matemáticas\",\n",
    "            \"porcentaje_aprobados\": (\n",
    "                estudiantes_aprobados_matematicas / total_estudiantes\n",
    "            )\n",
    "            * 100,\n",
    "        },\n",
    "        {\n",
    "            \"materia\": \"Ciencias\",\n",
    "            \"porcentaje_aprobados\": (estudiantes_aprobados_ciencia / total_estudiantes)\n",
    "            * 100,\n",
    "        },\n",
    "        {\n",
    "            \"materia\": \"Historia\",\n",
    "            \"porcentaje_aprobados\": (estudiantes_aprobados_historia / total_estudiantes)\n",
    "            * 100,\n",
    "        },\n",
    "    ]\n",
    "\n",
    "    return pd.DataFrame(porcentaje_aprobados_por_asignatura)"
   ]
  },
  {
   "cell_type": "markdown",
   "metadata": {},
   "source": [
    "- Crear un DataFrame que incluya dos columnas \n",
    "     - una para el nombre del estudiante \n",
    "     - y la otra para el promedio de las notas de las asignaturas."
   ]
  },
  {
   "cell_type": "code",
   "execution_count": 30,
   "metadata": {},
   "outputs": [],
   "source": [
    "def promedio_notas_asignatura_estudiante(calificaciones=calificaciones):\n",
    "    \"\"\"\n",
    "    Función que recibe como parámetro calificaciones de estudiantes y retorna\n",
    "    un DataFrame con los nombres de los estudiantes y los promedios de\n",
    "    las notas 3 materias\n",
    "    \"\"\"\n",
    "\n",
    "    # creo el DataFrame con las calificaciones\n",
    "    df = pd.DataFrame(calificaciones)\n",
    "\n",
    "    # creo un DataFrame vacío para almacenar los nuevos datos\n",
    "    new_df = pd.DataFrame()\n",
    "\n",
    "    # asigno los valores al nuevo DataFrame\n",
    "    new_df[\"nombres\"] = df[\"nombre\"]\n",
    "    new_df[\"promedio\"] = (df[\"matematicas\"] + df[\"ciencias\"] + df[\"historia\"]) / 3\n",
    "\n",
    "    return new_df"
   ]
  },
  {
   "cell_type": "markdown",
   "metadata": {},
   "source": [
    "### Prueba de las funciones del punto 3"
   ]
  },
  {
   "cell_type": "code",
   "execution_count": 31,
   "metadata": {},
   "outputs": [
    {
     "name": "stdout",
     "output_type": "stream",
     "text": [
      "-->promedio_calificaciones_asignaturas<--\n",
      "   matematicas   ciencias   historia\n",
      "0    80.769231  81.153846  83.846154\n",
      "-->estudiantes_calificaciones_mas_altas_por_asignatura<--\n",
      "       materia                alumnos  nota\n",
      "0  Matemáticas                [Pedro]    95\n",
      "1     Ciencias  [Juan, Carlos, Paula]    90\n",
      "2     Historia          [Luis, Laura]    95\n",
      "-->porcentaje_estudiantes_aprobados<--\n",
      "       materia  porcentaje_aprobados\n",
      "0  Matemáticas                 100.0\n",
      "1     Ciencias                 100.0\n",
      "2     Historia                 100.0\n",
      "-->promedio_notas_asignatura_estudiante<--\n",
      "   nombres   promedio\n",
      "0     Juan  83.333333\n",
      "1    María  78.333333\n",
      "2    Pedro  86.666667\n",
      "3      Ana  81.666667\n",
      "4     Luis  80.000000\n",
      "5    Sofía  83.333333\n",
      "6   Carlos  85.000000\n",
      "7    Elena  76.666667\n",
      "8   Javier  85.000000\n",
      "9    Laura  80.000000\n",
      "10   Diego  83.333333\n",
      "11   Paula  85.000000\n",
      "12  Carmen  76.666667\n"
     ]
    }
   ],
   "source": [
    "print(\"-->promedio_calificaciones_asignaturas<--\")\n",
    "print(promedio_calificaciones_asignaturas(calificaciones))\n",
    "print(\"-->estudiantes_calificaciones_mas_altas_por_asignatura<--\")\n",
    "print(estudiantes_calificaciones_mas_altas_por_asignatura(calificaciones))\n",
    "print(\"-->porcentaje_estudiantes_aprobados<--\")\n",
    "print(porcentaje_estudiantes_aprobados(calificaciones))\n",
    "print(\"-->promedio_notas_asignatura_estudiante<--\")\n",
    "print(promedio_notas_asignatura_estudiante(calificaciones))"
   ]
  },
  {
   "cell_type": "markdown",
   "metadata": {},
   "source": [
    "## Librería matplotlib - 4"
   ]
  },
  {
   "cell_type": "markdown",
   "metadata": {},
   "source": [
    "- Importación de librería matplotlib"
   ]
  },
  {
   "cell_type": "code",
   "execution_count": 32,
   "metadata": {},
   "outputs": [],
   "source": [
    "import matplotlib.pyplot as plt"
   ]
  },
  {
   "cell_type": "markdown",
   "metadata": {},
   "source": [
    "- Basándote en el DataFrame creado, realiza un análisis visual de las calificaciones de los estudiantes en las diferentes asignaturas. Utiliza un gráfico de barras donde el eje x represente los nombres de los estudiantes y el eje y represente las calificaciones obtenidas en cada asignatura."
   ]
  },
  {
   "cell_type": "code",
   "execution_count": 33,
   "metadata": {},
   "outputs": [
    {
     "data": {
      "image/png": "[encoded data removed]",
      "text/plain": [
       "<Figure size 640x480 with 1 Axes>"
      ]
     },
     "metadata": {},
     "output_type": "display_data"
    }
   ],
   "source": [
    "def mostrar_grafica_notas():\n",
    "    \"\"\"\n",
    "    Función muestra un gráfico de barra con los alumnos en el eje de las axisas y\n",
    "    los promedios de las notas en el eje de las ordenadas.\n",
    "    \"\"\"\n",
    "\n",
    "    #creo un DataFrame a partir la función del ejercicio 3\n",
    "    df = promedio_notas_asignatura_estudiante()\n",
    "\n",
    "    #creo dos listas con los nombres y los promedios de las notas.\n",
    "    lista_nombres = list(df[\"nombres\"])\n",
    "    lista_promedio = list(df[\"promedio\"])\n",
    "\n",
    "    # creo el gráfico con los datos.\n",
    "    plt.bar(x=lista_nombres, height=lista_promedio)\n",
    "    plt.title(\"Promedio Notas por Estudiante\")\n",
    "    plt.xlabel(\"Estudiantes\")\n",
    "    plt.ylabel(\"Notas\")\n",
    "\n",
    "    # mostrar el gráfico creado anteriormente.\n",
    "    plt.show()\n",
    "\n",
    "# ejecuto la función.\n",
    "mostrar_grafica_notas()"
   ]
  }
 ],
 "metadata": {
  "kernelspec": {
   "display_name": "env",
   "language": "python",
   "name": "python3"
  },
  "language_info": {
   "codemirror_mode": {
    "name": "ipython",
    "version": 3
   },
   "file_extension": ".py",
   "mimetype": "text/x-python",
   "name": "python",
   "nbconvert_exporter": "python",
   "pygments_lexer": "ipython3",
   "version": "3.12.2"
  }
 },
 "nbformat": 4,
 "nbformat_minor": 2
}
